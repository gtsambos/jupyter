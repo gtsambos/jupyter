{
 "cells": [
  {
   "cell_type": "markdown",
   "metadata": {},
   "source": [
    "A SparseTree is a single tree in a TreeSequence. In this notebook, I'll consider these objects on their own.\n",
    "\n",
    "We'll load the first tree from the previous example."
   ]
  },
  {
   "cell_type": "code",
   "execution_count": 1,
   "metadata": {},
   "outputs": [
    {
     "name": "stdout",
     "output_type": "stream",
     "text": [
      "   11        \n",
      "┏━━┻━━┓      \n",
      "┃     10     \n",
      "┃  ┏━━┻━┓    \n",
      "┃  ┃    9    \n",
      "┃  ┃  ┏━┻┓   \n",
      "┃  8  ┃  ┃   \n",
      "┃ ┏┻┓ ┃  ┃   \n",
      "┃ ┃ ┃ ┃  6   \n",
      "┃ ┃ ┃ ┃ ┏┻┓  \n",
      "2 0 1 3 4 5  \n",
      "\n",
      "   11        \n",
      "┏━━┻━━┓      \n",
      "┃     10     \n",
      "┃   ┏━┻━━┓   \n",
      "┃   ┃    9   \n",
      "┃   ┃   ┏┻┓  \n",
      "┃   8   ┃ ┃  \n",
      "┃ ┏━┻┓  ┃ ┃  \n",
      "┃ ┃  7  ┃ ┃  \n",
      "┃ ┃ ┏┻┓ ┃ ┃  \n",
      "2 0 1 5 3 4  \n",
      "\n"
     ]
    }
   ],
   "source": [
    "# Import packages.\n",
    "import msprime, pyslim, numpy, IPython.display\n",
    "\n",
    "# Create a very basic msprime setup with population structure, test.\n",
    "\n",
    "population_configurations =[\n",
    "    msprime.PopulationConfiguration(\n",
    "    sample_size=3, initial_size=100),\n",
    "    msprime.PopulationConfiguration(\n",
    "    sample_size=3, initial_size=100)\n",
    "]\n",
    "\n",
    "demographic_events = [\n",
    "    msprime.MassMigration(\n",
    "    time=5, source=1, destination=0, proportion=1.0)\n",
    "]\n",
    "\n",
    "rho = 1e-4\n",
    "mu  = 1e-3 \n",
    "\n",
    "# Simulate with msprime.\n",
    "\n",
    "ts = msprime.simulate(\n",
    "    population_configurations=population_configurations,\n",
    "    demographic_events=demographic_events,\n",
    "    length=10,\n",
    "    recombination_rate=rho,\n",
    "    mutation_rate=mu,\n",
    "    random_seed=1\n",
    ")\n",
    "\n",
    "for tree in ts.trees():\n",
    "    print(tree.draw(format=\"unicode\"))"
   ]
  },
  {
   "cell_type": "markdown",
   "metadata": {},
   "source": [
    "First, let's consider a few different ways to represent this tree visually with the ```draw()``` function."
   ]
  },
  {
   "cell_type": "code",
   "execution_count": 2,
   "metadata": {},
   "outputs": [
    {
     "name": "stdout",
     "output_type": "stream",
     "text": [
      "   11        \n",
      "┏━━┻━━┓      \n",
      "┃     10     \n",
      "┃  ┏━━┻━┓    \n",
      "┃  ┃    9    \n",
      "┃  ┃  ┏━┻┓   \n",
      "┃  8  ┃  ┃   \n",
      "┃ ┏┻┓ ┃  ┃   \n",
      "┃ ┃ ┃ ┃  6   \n",
      "┃ ┃ ┃ ┃ ┏┻┓  \n",
      "2 0 1 3 4 5  \n",
      "\n",
      "   11        \n",
      "+--+--+      \n",
      "|     10     \n",
      "|  +--+-+    \n",
      "|  |    9    \n",
      "|  |  +-++   \n",
      "|  8  |  |   \n",
      "| +++ |  |   \n",
      "| | | |  6   \n",
      "| | | | +++  \n",
      "2 0 1 3 4 5  \n",
      "\n"
     ]
    }
   ],
   "source": [
    "tree = ts.first()\n",
    "\n",
    "print(tree.draw(format=\"unicode\"))\n",
    "\n",
    "print(tree.draw(format=\"ascii\"))\n"
   ]
  },
  {
   "cell_type": "code",
   "execution_count": 3,
   "metadata": {},
   "outputs": [
    {
     "data": {
      "image/svg+xml": [
       "<svg baseProfile=\"full\" height=\"200\" version=\"1.1\" width=\"200\" xmlns=\"http://www.w3.org/2000/svg\" xmlns:ev=\"http://www.w3.org/2001/xml-events\" xmlns:xlink=\"http://www.w3.org/1999/xlink\"><defs/><g id=\"lines\" stroke=\"black\"><line x1=\"25.0\" x2=\"25.0\" y1=\"180.0\" y2=\"20.0\"/><line x1=\"25.0\" x2=\"57.8125\" y1=\"20.0\" y2=\"20.0\"/><line x1=\"90.625\" x2=\"90.625\" y1=\"92.80474609416986\" y2=\"20.0\"/><line x1=\"90.625\" x2=\"57.8125\" y1=\"20.0\" y2=\"20.0\"/><line x1=\"62.5\" x2=\"62.5\" y1=\"151.45176872243346\" y2=\"92.80474609416986\"/><line x1=\"62.5\" x2=\"90.625\" y1=\"92.80474609416986\" y2=\"92.80474609416986\"/><line x1=\"50.0\" x2=\"50.0\" y1=\"180.0\" y2=\"151.45176872243346\"/><line x1=\"50.0\" x2=\"62.5\" y1=\"151.45176872243346\" y2=\"151.45176872243346\"/><line x1=\"75.0\" x2=\"75.0\" y1=\"180.0\" y2=\"151.45176872243346\"/><line x1=\"75.0\" x2=\"62.5\" y1=\"151.45176872243346\" y2=\"151.45176872243346\"/><line x1=\"118.75\" x2=\"118.75\" y1=\"138.8170179691274\" y2=\"92.80474609416986\"/><line x1=\"118.75\" x2=\"90.625\" y1=\"92.80474609416986\" y2=\"92.80474609416986\"/><line x1=\"100.0\" x2=\"100.0\" y1=\"180.0\" y2=\"138.8170179691274\"/><line x1=\"100.0\" x2=\"118.75\" y1=\"138.8170179691274\" y2=\"138.8170179691274\"/><line x1=\"137.5\" x2=\"137.5\" y1=\"158.38156258835218\" y2=\"138.8170179691274\"/><line x1=\"137.5\" x2=\"118.75\" y1=\"138.8170179691274\" y2=\"138.8170179691274\"/><line x1=\"125.0\" x2=\"125.0\" y1=\"180.0\" y2=\"158.38156258835218\"/><line x1=\"125.0\" x2=\"137.5\" y1=\"158.38156258835218\" y2=\"158.38156258835218\"/><line x1=\"150.0\" x2=\"150.0\" y1=\"180.0\" y2=\"158.38156258835218\"/><line x1=\"150.0\" x2=\"137.5\" y1=\"158.38156258835218\" y2=\"158.38156258835218\"/></g><g font-size=\"14\" text-anchor=\"start\"><text x=\"95.625\" y=\"87.80474609416986\">10</text><text x=\"123.75\" y=\"133.8170179691274\">9</text><text x=\"142.5\" y=\"153.38156258835218\">6</text></g><g font-size=\"14\" text-anchor=\"end\"><text x=\"57.5\" y=\"146.45176872243346\">8</text></g><g font-size=\"14\" text-anchor=\"middle\"><text x=\"57.8125\" y=\"15.0\">11</text><text x=\"25.0\" y=\"200.0\">2</text><text x=\"50.0\" y=\"200.0\">0</text><text x=\"75.0\" y=\"200.0\">1</text><text x=\"100.0\" y=\"200.0\">3</text><text x=\"125.0\" y=\"200.0\">4</text><text x=\"150.0\" y=\"200.0\">5</text></g><circle cx=\"57.8125\" cy=\"20.0\" fill=\"black\" r=\"3\"/><circle cx=\"25.0\" cy=\"180.0\" fill=\"black\" r=\"3\"/><circle cx=\"90.625\" cy=\"92.80474609416986\" fill=\"black\" r=\"3\"/><circle cx=\"62.5\" cy=\"151.45176872243346\" fill=\"black\" r=\"3\"/><circle cx=\"50.0\" cy=\"180.0\" fill=\"black\" r=\"3\"/><circle cx=\"75.0\" cy=\"180.0\" fill=\"black\" r=\"3\"/><circle cx=\"118.75\" cy=\"138.8170179691274\" fill=\"black\" r=\"3\"/><circle cx=\"100.0\" cy=\"180.0\" fill=\"black\" r=\"3\"/><circle cx=\"137.5\" cy=\"158.38156258835218\" fill=\"black\" r=\"3\"/><circle cx=\"125.0\" cy=\"180.0\" fill=\"black\" r=\"3\"/><circle cx=\"150.0\" cy=\"180.0\" fill=\"black\" r=\"3\"/><g alignment-baseline=\"middle\" font-size=\"14\" font-style=\"italic\" text-anchor=\"start\"><text x=\"80.0\" y=\"177.36294218060837\">2</text><text x=\"80.0\" y=\"170.22588436121674\">6</text><text x=\"80.0\" y=\"163.08882654182509\">10</text><text x=\"95.625\" y=\"73.03649739611323\">3</text><text x=\"95.625\" y=\"48.76824869805662\">5</text><text x=\"123.75\" y=\"120.31088203164862\">7</text></g><g alignment-baseline=\"middle\" font-size=\"14\" font-style=\"italic\" text-anchor=\"end\"><text x=\"20.0\" y=\"157.83333333333334\">0</text><text x=\"20.0\" y=\"131.16666666666666\">4</text><text x=\"20.0\" y=\"104.5\">8</text><text x=\"20.0\" y=\"77.83333333333333\">9</text><text x=\"20.0\" y=\"51.16666666666666\">12</text><text x=\"57.5\" y=\"126.62825740830166\">1</text><text x=\"45.0\" y=\"170.22588436121674\">11</text></g><rect fill=\"red\" height=\"6\" width=\"6\" x=\"22.0\" y=\"150.33333333333334\"/><rect fill=\"red\" height=\"6\" width=\"6\" x=\"22.0\" y=\"123.66666666666666\"/><rect fill=\"red\" height=\"6\" width=\"6\" x=\"22.0\" y=\"97.0\"/><rect fill=\"red\" height=\"6\" width=\"6\" x=\"22.0\" y=\"70.33333333333333\"/><rect fill=\"red\" height=\"6\" width=\"6\" x=\"22.0\" y=\"43.66666666666666\"/><rect fill=\"red\" height=\"6\" width=\"6\" x=\"59.5\" y=\"119.12825740830166\"/><rect fill=\"red\" height=\"6\" width=\"6\" x=\"72.0\" y=\"169.86294218060837\"/><rect fill=\"red\" height=\"6\" width=\"6\" x=\"72.0\" y=\"162.72588436121674\"/><rect fill=\"red\" height=\"6\" width=\"6\" x=\"72.0\" y=\"155.58882654182509\"/><rect fill=\"red\" height=\"6\" width=\"6\" x=\"87.625\" y=\"65.53649739611323\"/><rect fill=\"red\" height=\"6\" width=\"6\" x=\"87.625\" y=\"41.26824869805662\"/><rect fill=\"red\" height=\"6\" width=\"6\" x=\"115.75\" y=\"112.81088203164862\"/><rect fill=\"red\" height=\"6\" width=\"6\" x=\"47.0\" y=\"162.72588436121674\"/></svg>"
      ],
      "text/plain": [
       "<IPython.core.display.SVG object>"
      ]
     },
     "execution_count": 3,
     "metadata": {},
     "output_type": "execute_result"
    }
   ],
   "source": [
    "IPython.display.SVG(tree.draw())"
   ]
  },
  {
   "cell_type": "markdown",
   "metadata": {},
   "source": [
    "**NOTE:** Why this is displaying the last tree, rather than the first, I'm not sure :/"
   ]
  },
  {
   "cell_type": "code",
   "execution_count": 4,
   "metadata": {},
   "outputs": [
    {
     "data": {
      "image/svg+xml": [
       "<svg baseProfile=\"full\" height=\"200\" version=\"1.1\" width=\"200\" xmlns=\"http://www.w3.org/2000/svg\" xmlns:ev=\"http://www.w3.org/2001/xml-events\" xmlns:xlink=\"http://www.w3.org/1999/xlink\"><defs/><g id=\"lines\" stroke=\"black\"><line x1=\"25.0\" x2=\"25.0\" y1=\"180.0\" y2=\"20.0\"/><line x1=\"25.0\" x2=\"57.8125\" y1=\"20.0\" y2=\"20.0\"/><line x1=\"90.625\" x2=\"90.625\" y1=\"92.80474609416986\" y2=\"20.0\"/><line x1=\"90.625\" x2=\"57.8125\" y1=\"20.0\" y2=\"20.0\"/><line x1=\"62.5\" x2=\"62.5\" y1=\"151.45176872243346\" y2=\"92.80474609416986\"/><line x1=\"62.5\" x2=\"90.625\" y1=\"92.80474609416986\" y2=\"92.80474609416986\"/><line x1=\"50.0\" x2=\"50.0\" y1=\"180.0\" y2=\"151.45176872243346\"/><line x1=\"50.0\" x2=\"62.5\" y1=\"151.45176872243346\" y2=\"151.45176872243346\"/><line x1=\"75.0\" x2=\"75.0\" y1=\"180.0\" y2=\"151.45176872243346\"/><line x1=\"75.0\" x2=\"62.5\" y1=\"151.45176872243346\" y2=\"151.45176872243346\"/><line x1=\"118.75\" x2=\"118.75\" y1=\"138.8170179691274\" y2=\"92.80474609416986\"/><line x1=\"118.75\" x2=\"90.625\" y1=\"92.80474609416986\" y2=\"92.80474609416986\"/><line x1=\"100.0\" x2=\"100.0\" y1=\"180.0\" y2=\"138.8170179691274\"/><line x1=\"100.0\" x2=\"118.75\" y1=\"138.8170179691274\" y2=\"138.8170179691274\"/><line x1=\"137.5\" x2=\"137.5\" y1=\"158.38156258835218\" y2=\"138.8170179691274\"/><line x1=\"137.5\" x2=\"118.75\" y1=\"138.8170179691274\" y2=\"138.8170179691274\"/><line x1=\"125.0\" x2=\"125.0\" y1=\"180.0\" y2=\"158.38156258835218\"/><line x1=\"125.0\" x2=\"137.5\" y1=\"158.38156258835218\" y2=\"158.38156258835218\"/><line x1=\"150.0\" x2=\"150.0\" y1=\"180.0\" y2=\"158.38156258835218\"/><line x1=\"150.0\" x2=\"137.5\" y1=\"158.38156258835218\" y2=\"158.38156258835218\"/></g><g font-size=\"14\" text-anchor=\"start\"/><g font-size=\"14\" text-anchor=\"end\"/><g font-size=\"14\" text-anchor=\"middle\"/><circle cx=\"57.8125\" cy=\"20.0\" fill=\"black\" r=\"3\"/><circle cx=\"25.0\" cy=\"180.0\" fill=\"black\" r=\"3\"/><circle cx=\"90.625\" cy=\"92.80474609416986\" fill=\"black\" r=\"3\"/><circle cx=\"62.5\" cy=\"151.45176872243346\" fill=\"black\" r=\"3\"/><circle cx=\"50.0\" cy=\"180.0\" fill=\"black\" r=\"3\"/><circle cx=\"75.0\" cy=\"180.0\" fill=\"black\" r=\"3\"/><circle cx=\"118.75\" cy=\"138.8170179691274\" fill=\"black\" r=\"3\"/><circle cx=\"100.0\" cy=\"180.0\" fill=\"black\" r=\"3\"/><circle cx=\"137.5\" cy=\"158.38156258835218\" fill=\"black\" r=\"3\"/><circle cx=\"125.0\" cy=\"180.0\" fill=\"black\" r=\"3\"/><circle cx=\"150.0\" cy=\"180.0\" fill=\"black\" r=\"3\"/><g alignment-baseline=\"middle\" font-size=\"14\" font-style=\"italic\" text-anchor=\"start\"><text x=\"80.0\" y=\"177.36294218060837\">2</text><text x=\"80.0\" y=\"170.22588436121674\">6</text><text x=\"80.0\" y=\"163.08882654182509\">10</text><text x=\"95.625\" y=\"73.03649739611323\">3</text><text x=\"95.625\" y=\"48.76824869805662\">5</text><text x=\"123.75\" y=\"120.31088203164862\">7</text></g><g alignment-baseline=\"middle\" font-size=\"14\" font-style=\"italic\" text-anchor=\"end\"><text x=\"20.0\" y=\"157.83333333333334\">0</text><text x=\"20.0\" y=\"131.16666666666666\">4</text><text x=\"20.0\" y=\"104.5\">8</text><text x=\"20.0\" y=\"77.83333333333333\">9</text><text x=\"20.0\" y=\"51.16666666666666\">12</text><text x=\"57.5\" y=\"126.62825740830166\">1</text><text x=\"45.0\" y=\"170.22588436121674\">11</text></g><rect fill=\"red\" height=\"6\" width=\"6\" x=\"22.0\" y=\"150.33333333333334\"/><rect fill=\"red\" height=\"6\" width=\"6\" x=\"22.0\" y=\"123.66666666666666\"/><rect fill=\"red\" height=\"6\" width=\"6\" x=\"22.0\" y=\"97.0\"/><rect fill=\"red\" height=\"6\" width=\"6\" x=\"22.0\" y=\"70.33333333333333\"/><rect fill=\"red\" height=\"6\" width=\"6\" x=\"22.0\" y=\"43.66666666666666\"/><rect fill=\"red\" height=\"6\" width=\"6\" x=\"59.5\" y=\"119.12825740830166\"/><rect fill=\"red\" height=\"6\" width=\"6\" x=\"72.0\" y=\"169.86294218060837\"/><rect fill=\"red\" height=\"6\" width=\"6\" x=\"72.0\" y=\"162.72588436121674\"/><rect fill=\"red\" height=\"6\" width=\"6\" x=\"72.0\" y=\"155.58882654182509\"/><rect fill=\"red\" height=\"6\" width=\"6\" x=\"87.625\" y=\"65.53649739611323\"/><rect fill=\"red\" height=\"6\" width=\"6\" x=\"87.625\" y=\"41.26824869805662\"/><rect fill=\"red\" height=\"6\" width=\"6\" x=\"115.75\" y=\"112.81088203164862\"/><rect fill=\"red\" height=\"6\" width=\"6\" x=\"47.0\" y=\"162.72588436121674\"/></svg>"
      ],
      "text/plain": [
       "<IPython.core.display.SVG object>"
      ]
     },
     "execution_count": 4,
     "metadata": {},
     "output_type": "execute_result"
    }
   ],
   "source": [
    "IPython.display.SVG(tree.draw(node_labels={}))"
   ]
  },
  {
   "cell_type": "code",
   "execution_count": 5,
   "metadata": {},
   "outputs": [
    {
     "data": {
      "image/svg+xml": [
       "<svg baseProfile=\"full\" height=\"500\" version=\"1.1\" width=\"500\" xmlns=\"http://www.w3.org/2000/svg\" xmlns:ev=\"http://www.w3.org/2001/xml-events\" xmlns:xlink=\"http://www.w3.org/1999/xlink\"><defs/><g id=\"lines\" stroke=\"black\"><line x1=\"62.5\" x2=\"62.5\" y1=\"480.0\" y2=\"20.0\"/><line x1=\"62.5\" x2=\"144.53125\" y1=\"20.0\" y2=\"20.0\"/><line x1=\"226.5625\" x2=\"226.5625\" y1=\"229.31364502073833\" y2=\"20.0\"/><line x1=\"226.5625\" x2=\"144.53125\" y1=\"20.0\" y2=\"20.0\"/><line x1=\"156.25\" x2=\"156.25\" y1=\"397.92383507699617\" y2=\"229.31364502073833\"/><line x1=\"156.25\" x2=\"226.5625\" y1=\"229.31364502073833\" y2=\"229.31364502073833\"/><line x1=\"125.0\" x2=\"125.0\" y1=\"480.0\" y2=\"397.92383507699617\"/><line x1=\"125.0\" x2=\"156.25\" y1=\"397.92383507699617\" y2=\"397.92383507699617\"/><line x1=\"187.5\" x2=\"187.5\" y1=\"480.0\" y2=\"397.92383507699617\"/><line x1=\"187.5\" x2=\"156.25\" y1=\"397.92383507699617\" y2=\"397.92383507699617\"/><line x1=\"296.875\" x2=\"296.875\" y1=\"361.5989266612413\" y2=\"229.31364502073833\"/><line x1=\"296.875\" x2=\"226.5625\" y1=\"229.31364502073833\" y2=\"229.31364502073833\"/><line x1=\"250.0\" x2=\"250.0\" y1=\"480.0\" y2=\"361.5989266612413\"/><line x1=\"250.0\" x2=\"296.875\" y1=\"361.5989266612413\" y2=\"361.5989266612413\"/><line x1=\"343.75\" x2=\"343.75\" y1=\"417.84699244151255\" y2=\"361.5989266612413\"/><line x1=\"343.75\" x2=\"296.875\" y1=\"361.5989266612413\" y2=\"361.5989266612413\"/><line x1=\"312.5\" x2=\"312.5\" y1=\"480.0\" y2=\"417.84699244151255\"/><line x1=\"312.5\" x2=\"343.75\" y1=\"417.84699244151255\" y2=\"417.84699244151255\"/><line x1=\"375.0\" x2=\"375.0\" y1=\"480.0\" y2=\"417.84699244151255\"/><line x1=\"375.0\" x2=\"343.75\" y1=\"417.84699244151255\" y2=\"417.84699244151255\"/></g><g font-size=\"14\" text-anchor=\"start\"/><g font-size=\"14\" text-anchor=\"end\"/><g font-size=\"14\" text-anchor=\"middle\"/><circle cx=\"144.53125\" cy=\"20.0\" fill=\"black\" r=\"3\"/><circle cx=\"62.5\" cy=\"480.0\" fill=\"black\" r=\"3\"/><circle cx=\"226.5625\" cy=\"229.31364502073833\" fill=\"black\" r=\"3\"/><circle cx=\"156.25\" cy=\"397.92383507699617\" fill=\"black\" r=\"3\"/><circle cx=\"125.0\" cy=\"480.0\" fill=\"black\" r=\"3\"/><circle cx=\"187.5\" cy=\"480.0\" fill=\"black\" r=\"3\"/><circle cx=\"296.875\" cy=\"361.5989266612413\" fill=\"black\" r=\"3\"/><circle cx=\"250.0\" cy=\"480.0\" fill=\"black\" r=\"3\"/><circle cx=\"343.75\" cy=\"417.84699244151255\" fill=\"black\" r=\"3\"/><circle cx=\"312.5\" cy=\"480.0\" fill=\"black\" r=\"3\"/><circle cx=\"375.0\" cy=\"480.0\" fill=\"black\" r=\"3\"/><g alignment-baseline=\"middle\" font-size=\"14\" font-style=\"italic\" text-anchor=\"start\"><text x=\"192.5\" y=\"463.980958769249\">2</text><text x=\"192.5\" y=\"443.4619175384981\">6</text><text x=\"192.5\" y=\"422.94287630774716\">10</text><text x=\"231.5625\" y=\"164.04243001382554\">3</text><text x=\"231.5625\" y=\"94.27121500691277\">5</text><text x=\"301.875\" y=\"299.95628584098984\">7</text></g><g alignment-baseline=\"middle\" font-size=\"14\" font-style=\"italic\" text-anchor=\"end\"><text x=\"57.5\" y=\"407.8333333333333\">0</text><text x=\"57.5\" y=\"331.16666666666663\">4</text><text x=\"57.5\" y=\"254.5\">8</text><text x=\"57.5\" y=\"177.83333333333331\">9</text><text x=\"57.5\" y=\"101.16666666666663\">12</text><text x=\"151.25\" y=\"318.11874004886727\">1</text><text x=\"120.0\" y=\"443.4619175384981\">11</text></g><rect fill=\"red\" height=\"6\" width=\"6\" x=\"59.5\" y=\"400.3333333333333\"/><rect fill=\"red\" height=\"6\" width=\"6\" x=\"59.5\" y=\"323.66666666666663\"/><rect fill=\"red\" height=\"6\" width=\"6\" x=\"59.5\" y=\"247.0\"/><rect fill=\"red\" height=\"6\" width=\"6\" x=\"59.5\" y=\"170.33333333333331\"/><rect fill=\"red\" height=\"6\" width=\"6\" x=\"59.5\" y=\"93.66666666666663\"/><rect fill=\"red\" height=\"6\" width=\"6\" x=\"153.25\" y=\"310.61874004886727\"/><rect fill=\"red\" height=\"6\" width=\"6\" x=\"184.5\" y=\"456.480958769249\"/><rect fill=\"red\" height=\"6\" width=\"6\" x=\"184.5\" y=\"435.9619175384981\"/><rect fill=\"red\" height=\"6\" width=\"6\" x=\"184.5\" y=\"415.44287630774716\"/><rect fill=\"red\" height=\"6\" width=\"6\" x=\"223.5625\" y=\"156.54243001382554\"/><rect fill=\"red\" height=\"6\" width=\"6\" x=\"223.5625\" y=\"86.77121500691277\"/><rect fill=\"red\" height=\"6\" width=\"6\" x=\"293.875\" y=\"292.45628584098984\"/><rect fill=\"red\" height=\"6\" width=\"6\" x=\"122.0\" y=\"435.9619175384981\"/></svg>"
      ],
      "text/plain": [
       "<IPython.core.display.SVG object>"
      ]
     },
     "execution_count": 5,
     "metadata": {},
     "output_type": "execute_result"
    }
   ],
   "source": [
    "#print(tree.draw(format=\"unicode\", width=5000, height=5000))\n",
    "IPython.display.SVG(tree.draw(node_labels={}, width=500, height=500))"
   ]
  },
  {
   "cell_type": "markdown",
   "metadata": {},
   "source": [
    "There appear to be some ways to colour and label nodes in particular ways using the ```node_labels``` and ```node_colours``` arguments, but I can't figure out how to input the argument correctly (the input must be a 'map')? Anyway, be aware that this is an option.\n",
    "\n",
    "You can also save the trees by writing the output to a particular location using the ```path``` argument.\n",
    "\n",
    "Let's see some summary info about our SparseTree."
   ]
  },
  {
   "cell_type": "code",
   "execution_count": 6,
   "metadata": {},
   "outputs": [
    {
     "name": "stdout",
     "output_type": "stream",
     "text": [
      "The index this tree occupies in the TreeSequence: 0 \n",
      "\n",
      "The coordinates of the genomic interval that this tree represents the history of: (0.0, 8.805353552756214) \n",
      "\n",
      "The length of the genomic interval covered by this tree: 8.805353552756214 \n",
      "\n",
      "Number of mutations on this tree: 13 \n",
      "\n",
      "Number of nodes in this sparse tree: 12 \n",
      "\n",
      "Number of roots to the tree: 1 \n",
      "\n",
      "Number of sites in this sparse tree: 13 \n",
      "\n",
      "The tree root: 11 \n",
      "\n",
      "The sample size: 6 \n",
      "\n",
      "Number of nodes in this sparse tree: 12 \n",
      "\n",
      "Total branch length: 1520.298926179628 \n",
      "\n"
     ]
    }
   ],
   "source": [
    "print(\"The index this tree occupies in the TreeSequence:\", tree.index, \"\\n\")\n",
    "\n",
    "print(\"The coordinates of the genomic interval that this tree represents the history of:\", tree.interval, \"\\n\")\n",
    "\n",
    "print(\"The length of the genomic interval covered by this tree:\", tree.length, \"\\n\")\n",
    "\n",
    "print(\"Number of mutations on this tree:\", tree.num_mutations, \"\\n\")\n",
    "\n",
    "print(\"Number of nodes in this sparse tree:\", tree.num_nodes, \"\\n\")\n",
    "\n",
    "print(\"Number of roots to the tree:\", tree.num_roots, \"\\n\")\n",
    "\n",
    "print(\"Number of sites in this sparse tree:\", tree.num_sites, \"\\n\")\n",
    "\n",
    "print(\"The tree root:\", tree.root, \"\\n\")\n",
    "\n",
    "print(\"The sample size:\", tree.sample_size, \"\\n\")\n",
    "\n",
    "print(\"Number of nodes in this sparse tree:\", tree.num_nodes, \"\\n\")\n",
    "\n",
    "print(\"Total branch length:\", tree.total_branch_length, \"\\n\")"
   ]
  },
  {
   "cell_type": "markdown",
   "metadata": {},
   "source": [
    "Note that some of these are common to the entire TreeSequence, while some are specific to this particular tree.\n",
    "\n",
    "We can get the TreeSequence back with ```tree_sequence```:"
   ]
  },
  {
   "cell_type": "code",
   "execution_count": 7,
   "metadata": {},
   "outputs": [
    {
     "name": "stdout",
     "output_type": "stream",
     "text": [
      "   11        \n",
      "┏━━┻━━┓      \n",
      "┃     10     \n",
      "┃  ┏━━┻━┓    \n",
      "┃  ┃    9    \n",
      "┃  ┃  ┏━┻┓   \n",
      "┃  8  ┃  ┃   \n",
      "┃ ┏┻┓ ┃  ┃   \n",
      "┃ ┃ ┃ ┃  6   \n",
      "┃ ┃ ┃ ┃ ┏┻┓  \n",
      "2 0 1 3 4 5  \n",
      "\n",
      "   11        \n",
      "┏━━┻━━┓      \n",
      "┃     10     \n",
      "┃   ┏━┻━━┓   \n",
      "┃   ┃    9   \n",
      "┃   ┃   ┏┻┓  \n",
      "┃   8   ┃ ┃  \n",
      "┃ ┏━┻┓  ┃ ┃  \n",
      "┃ ┃  7  ┃ ┃  \n",
      "┃ ┃ ┏┻┓ ┃ ┃  \n",
      "2 0 1 5 3 4  \n",
      "\n"
     ]
    }
   ],
   "source": [
    "ts = tree.tree_sequence\n",
    "\n",
    "for tr in ts.trees():\n",
    "    print(tr.draw(format=\"unicode\"))"
   ]
  },
  {
   "cell_type": "markdown",
   "metadata": {},
   "source": [
    "We can also get a more traditional Newick representation of the tree (but see the documentation to read about some limitations of this feature)\n"
   ]
  },
  {
   "cell_type": "code",
   "execution_count": 8,
   "metadata": {},
   "outputs": [
    {
     "data": {
      "text/plain": [
       "'(3:487.91558379532819,((1:87.05704331323707,2:87.05704331323707):178.84247677204408,(4:125.58636700016072,(5:65.92482819029316,6:65.92482819029316):59.66153880986757):140.31315308512043):222.01606371004704);'"
      ]
     },
     "execution_count": 8,
     "metadata": {},
     "output_type": "execute_result"
    }
   ],
   "source": [
    "tree.newick()"
   ]
  },
  {
   "cell_type": "markdown",
   "metadata": {},
   "source": [
    "### Nodes"
   ]
  },
  {
   "cell_type": "markdown",
   "metadata": {},
   "source": [
    "Each SparseTree consists of nodes that represent genomes of distinct ancestors in particular points of time. In msprime, each node has a unique integer ID."
   ]
  },
  {
   "cell_type": "code",
   "execution_count": 9,
   "metadata": {},
   "outputs": [],
   "source": [
    "tree = ts.first()\n",
    "\n",
    "n1 = 0\n",
    "n2 = 9\n"
   ]
  },
  {
   "cell_type": "markdown",
   "metadata": {},
   "source": [
    "These nodes are contained in the ```nodes()``` iterator, and can be retrieved in various orders:"
   ]
  },
  {
   "cell_type": "code",
   "execution_count": 10,
   "metadata": {},
   "outputs": [
    {
     "name": "stdout",
     "output_type": "stream",
     "text": [
      "[11, 2, 10, 8, 0, 1, 9, 3, 6, 4, 5]\n"
     ]
    }
   ],
   "source": [
    "# the default order is 'preorder': start from the top of the tree, then\n",
    "# exhaustively visit each node in the order that a decision tree would,\n",
    "# from left to right\n",
    "node_list = []\n",
    "\n",
    "for node in tree.nodes():\n",
    "    node_list.append(node)\n",
    "    \n",
    "print(node_list)"
   ]
  },
  {
   "cell_type": "code",
   "execution_count": 11,
   "metadata": {},
   "outputs": [
    {
     "name": "stdout",
     "output_type": "stream",
     "text": [
      "[2, 11, 0, 8, 1, 10, 3, 9, 4, 6, 5]\n"
     ]
    }
   ],
   "source": [
    "# \"Inorder\": \n",
    "# Starting from the left-most leaf, list the parent node.\n",
    "# Then, if all children of the parent have been listed,\n",
    "# list the parent of the parent node.\n",
    "node_list = []\n",
    "\n",
    "for node in tree.nodes(order = \"inorder\"):\n",
    "    node_list.append(node)\n",
    "    \n",
    "print(node_list)"
   ]
  },
  {
   "cell_type": "code",
   "execution_count": 12,
   "metadata": {},
   "outputs": [
    {
     "name": "stdout",
     "output_type": "stream",
     "text": [
      "[2, 0, 1, 8, 3, 4, 5, 6, 9, 10, 11]\n"
     ]
    }
   ],
   "source": [
    "# \"Postorder\":\n",
    "# \n",
    "node_list = []\n",
    "\n",
    "for node in tree.nodes(order = \"postorder\"):\n",
    "    node_list.append(node)\n",
    "    \n",
    "print(node_list)"
   ]
  },
  {
   "cell_type": "code",
   "execution_count": 13,
   "metadata": {},
   "outputs": [
    {
     "name": "stdout",
     "output_type": "stream",
     "text": [
      "[11, 2, 10, 8, 9, 0, 1, 3, 6, 4, 5]\n"
     ]
    }
   ],
   "source": [
    "# \"levelorder\"\n",
    "# The root(s) are printed first; then children of the roots; \n",
    "# ; then children of those children etc.\n",
    "node_list = []\n",
    "\n",
    "for node in tree.nodes(order = \"levelorder\"):\n",
    "    node_list.append(node)\n",
    "    \n",
    "print(node_list)"
   ]
  },
  {
   "cell_type": "markdown",
   "metadata": {},
   "source": [
    "We may be interested in the location of our selected node compared with other nodes:"
   ]
  },
  {
   "cell_type": "code",
   "execution_count": 14,
   "metadata": {},
   "outputs": [
    {
     "name": "stdout",
     "output_type": "stream",
     "text": [
      "Children of node 9: (3, 6) \n",
      "\n",
      "Parent of node 9: 10 \n",
      "\n",
      "Is node 9 internal (ie. not a leaf): True \n",
      "\n",
      "Is node 9 a leaf: False \n",
      "\n",
      "Is node 0 a sample: True \n",
      "\n"
     ]
    }
   ],
   "source": [
    "print(\"Children of node 9:\", \n",
    "     tree.children(n2),\n",
    "     \"\\n\")\n",
    "\n",
    "print(\"Parent of node 9:\", \n",
    "     tree.parent(n2),\n",
    "     \"\\n\")\n",
    "\n",
    "print(\"Is node 9 internal (ie. not a leaf):\", \n",
    "     tree.is_internal(n2),\n",
    "     \"\\n\")\n",
    "\n",
    "print(\"Is node 9 a leaf:\", \n",
    "     tree.is_leaf(n2),\n",
    "     \"\\n\")\n",
    "\n",
    "print(\"Is node 0 a sample:\", \n",
    "     tree.is_sample(n1),\n",
    "     \"\\n\")"
   ]
  },
  {
   "cell_type": "markdown",
   "metadata": {},
   "source": [
    "... population information:"
   ]
  },
  {
   "cell_type": "code",
   "execution_count": 15,
   "metadata": {},
   "outputs": [
    {
     "name": "stdout",
     "output_type": "stream",
     "text": [
      "Population of node 0: 0 \n",
      "\n"
     ]
    }
   ],
   "source": [
    "print(\"Population of node 0:\", \n",
    "     tree.population(n1),\n",
    "     \"\\n\")"
   ]
  },
  {
   "cell_type": "markdown",
   "metadata": {},
   "source": [
    "... it's relation to the sample nodes:"
   ]
  },
  {
   "cell_type": "code",
   "execution_count": 16,
   "metadata": {},
   "outputs": [
    {
     "name": "stdout",
     "output_type": "stream",
     "text": [
      "Number of samples in the subtree with node 9 as root: 3 \n",
      "\n",
      "Number of tracked samples in the subtree with node 9 as root: 0 \n",
      "\n"
     ]
    }
   ],
   "source": [
    "print(\"Number of samples in the subtree with node 9 as root:\", \n",
    "     tree.num_samples(n2),\n",
    "     \"\\n\")\n",
    "\n",
    "print(\"Number of tracked samples in the subtree with node 9 as root:\", \n",
    "     tree.num_tracked_samples(n2),\n",
    "     \"\\n\")"
   ]
  },
  {
   "cell_type": "markdown",
   "metadata": {},
   "source": [
    "... as well as its position in time, both in an absolute sense, and in relation to other nodes:"
   ]
  },
  {
   "cell_type": "code",
   "execution_count": 17,
   "metadata": {},
   "outputs": [
    {
     "name": "stdout",
     "output_type": "stream",
     "text": [
      "Time of node 9 in generations (in the backwards-direction): 125.58636700016072 \n",
      "\n",
      "Length of the branch joining node 9 to its parent: 140.31315308512043 \n",
      "\n"
     ]
    }
   ],
   "source": [
    "print(\"Time of node 9 in generations (in the backwards-direction):\", \n",
    "     tree.time(n2),\n",
    "     \"\\n\")\n",
    "\n",
    "print(\"Length of the branch joining node 9 to its parent:\", \n",
    "     tree.branch_length(n2),\n",
    "     \"\\n\")"
   ]
  },
  {
   "cell_type": "markdown",
   "metadata": {},
   "source": [
    "We can compare the location and 'distance' of different nodes in the tree:"
   ]
  },
  {
   "cell_type": "code",
   "execution_count": 18,
   "metadata": {},
   "outputs": [
    {
     "name": "stdout",
     "output_type": "stream",
     "text": [
      "MRCA of nodes 0 and 9: 10 \n",
      "\n",
      "Time of MRCA of nodes 0 and 9: 265.89952008528115 \n",
      "\n"
     ]
    }
   ],
   "source": [
    "print(\"MRCA of nodes 0 and 9:\", \n",
    "     tree.mrca(n1, n2),\n",
    "     \"\\n\")\n",
    "\n",
    "print(\"Time of MRCA of nodes 0 and 9:\", \n",
    "     tree.tmrca(n1, n2),\n",
    "     \"\\n\")"
   ]
  },
  {
   "cell_type": "markdown",
   "metadata": {},
   "source": [
    "### Iterators that can be retrieved from a SparseTree object:"
   ]
  },
  {
   "cell_type": "markdown",
   "metadata": {},
   "source": [
    "Various useful iterators can be retrieved from each SparseTree. The ```leaves()``` iterator returns each leaf node that descends from the input node (by default, the root node):"
   ]
  },
  {
   "cell_type": "code",
   "execution_count": 19,
   "metadata": {},
   "outputs": [
    {
     "name": "stdout",
     "output_type": "stream",
     "text": [
      "3\n",
      "4\n",
      "5\n"
     ]
    }
   ],
   "source": [
    "for leaf in tree.leaves(n2):\n",
    "    print(leaf)"
   ]
  },
  {
   "cell_type": "markdown",
   "metadata": {},
   "source": [
    "The individual mutations, the nodes they arrived on, and their position, as well as other mutation-specific information, are contained in the ```mutations()``` iterator:"
   ]
  },
  {
   "cell_type": "code",
   "execution_count": 20,
   "metadata": {},
   "outputs": [
    {
     "name": "stdout",
     "output_type": "stream",
     "text": [
      "{'id': 0, 'site': 0, 'node': 2, 'derived_state': '1', 'parent': -1, 'metadata': b'', 'position': 0.18288280116394162, 'index': 0}\n",
      "{'id': 1, 'site': 1, 'node': 8, 'derived_state': '1', 'parent': -1, 'metadata': b'', 'position': 0.592431970871985, 'index': 1}\n",
      "{'id': 2, 'site': 2, 'node': 1, 'derived_state': '1', 'parent': -1, 'metadata': b'', 'position': 0.8171439440980768, 'index': 2}\n",
      "{'id': 3, 'site': 3, 'node': 10, 'derived_state': '1', 'parent': -1, 'metadata': b'', 'position': 2.2212454839609563, 'index': 3}\n",
      "{'id': 4, 'site': 4, 'node': 2, 'derived_state': '1', 'parent': -1, 'metadata': b'', 'position': 3.1551563390530646, 'index': 4}\n",
      "{'id': 5, 'site': 5, 'node': 10, 'derived_state': '1', 'parent': -1, 'metadata': b'', 'position': 4.461345006711781, 'index': 5}\n",
      "{'id': 6, 'site': 6, 'node': 1, 'derived_state': '1', 'parent': -1, 'metadata': b'', 'position': 4.562516381453547, 'index': 6}\n",
      "{'id': 7, 'site': 7, 'node': 9, 'derived_state': '1', 'parent': -1, 'metadata': b'', 'position': 5.930655167903751, 'index': 7}\n",
      "{'id': 8, 'site': 8, 'node': 2, 'derived_state': '1', 'parent': -1, 'metadata': b'', 'position': 6.865009246394038, 'index': 8}\n",
      "{'id': 9, 'site': 9, 'node': 2, 'derived_state': '1', 'parent': -1, 'metadata': b'', 'position': 7.501443123910576, 'index': 9}\n",
      "{'id': 10, 'site': 10, 'node': 1, 'derived_state': '1', 'parent': -1, 'metadata': b'', 'position': 7.616809090278551, 'index': 10}\n",
      "{'id': 11, 'site': 11, 'node': 0, 'derived_state': '1', 'parent': -1, 'metadata': b'', 'position': 7.783892354927957, 'index': 11}\n",
      "{'id': 12, 'site': 12, 'node': 2, 'derived_state': '1', 'parent': -1, 'metadata': b'', 'position': 8.346256734803319, 'index': 12}\n"
     ]
    }
   ],
   "source": [
    "for mut in tree.mutations():\n",
    "    print(mut)"
   ]
  },
  {
   "cell_type": "code",
   "execution_count": 21,
   "metadata": {},
   "outputs": [
    {
     "name": "stdout",
     "output_type": "stream",
     "text": [
      "{'id': 0, 'position': 0.18288280116394162, 'ancestral_state': '0', 'mutations': [{'id': 0, 'site': 0, 'node': 2, 'derived_state': '1', 'parent': -1, 'metadata': b''}], 'metadata': b''}\n",
      "{'id': 1, 'position': 0.592431970871985, 'ancestral_state': '0', 'mutations': [{'id': 1, 'site': 1, 'node': 8, 'derived_state': '1', 'parent': -1, 'metadata': b''}], 'metadata': b''}\n",
      "{'id': 2, 'position': 0.8171439440980768, 'ancestral_state': '0', 'mutations': [{'id': 2, 'site': 2, 'node': 1, 'derived_state': '1', 'parent': -1, 'metadata': b''}], 'metadata': b''}\n",
      "{'id': 3, 'position': 2.2212454839609563, 'ancestral_state': '0', 'mutations': [{'id': 3, 'site': 3, 'node': 10, 'derived_state': '1', 'parent': -1, 'metadata': b''}], 'metadata': b''}\n",
      "{'id': 4, 'position': 3.1551563390530646, 'ancestral_state': '0', 'mutations': [{'id': 4, 'site': 4, 'node': 2, 'derived_state': '1', 'parent': -1, 'metadata': b''}], 'metadata': b''}\n",
      "{'id': 5, 'position': 4.461345006711781, 'ancestral_state': '0', 'mutations': [{'id': 5, 'site': 5, 'node': 10, 'derived_state': '1', 'parent': -1, 'metadata': b''}], 'metadata': b''}\n",
      "{'id': 6, 'position': 4.562516381453547, 'ancestral_state': '0', 'mutations': [{'id': 6, 'site': 6, 'node': 1, 'derived_state': '1', 'parent': -1, 'metadata': b''}], 'metadata': b''}\n",
      "{'id': 7, 'position': 5.930655167903751, 'ancestral_state': '0', 'mutations': [{'id': 7, 'site': 7, 'node': 9, 'derived_state': '1', 'parent': -1, 'metadata': b''}], 'metadata': b''}\n",
      "{'id': 8, 'position': 6.865009246394038, 'ancestral_state': '0', 'mutations': [{'id': 8, 'site': 8, 'node': 2, 'derived_state': '1', 'parent': -1, 'metadata': b''}], 'metadata': b''}\n",
      "{'id': 9, 'position': 7.501443123910576, 'ancestral_state': '0', 'mutations': [{'id': 9, 'site': 9, 'node': 2, 'derived_state': '1', 'parent': -1, 'metadata': b''}], 'metadata': b''}\n",
      "{'id': 10, 'position': 7.616809090278551, 'ancestral_state': '0', 'mutations': [{'id': 10, 'site': 10, 'node': 1, 'derived_state': '1', 'parent': -1, 'metadata': b''}], 'metadata': b''}\n",
      "{'id': 11, 'position': 7.783892354927957, 'ancestral_state': '0', 'mutations': [{'id': 11, 'site': 11, 'node': 0, 'derived_state': '1', 'parent': -1, 'metadata': b''}], 'metadata': b''}\n",
      "{'id': 12, 'position': 8.346256734803319, 'ancestral_state': '0', 'mutations': [{'id': 12, 'site': 12, 'node': 2, 'derived_state': '1', 'parent': -1, 'metadata': b''}], 'metadata': b''}\n"
     ]
    }
   ],
   "source": [
    "for site in tree.sites():\n",
    "    print(site)"
   ]
  },
  {
   "cell_type": "markdown",
   "metadata": {},
   "source": [
    "At present I'm not really sure how 'sites' and 'mutations' differ, but hopefully we'll get to that..."
   ]
  },
  {
   "cell_type": "code",
   "execution_count": null,
   "metadata": {},
   "outputs": [],
   "source": []
  }
 ],
 "metadata": {
  "kernelspec": {
   "display_name": "Python 3",
   "language": "python",
   "name": "python3"
  },
  "language_info": {
   "codemirror_mode": {
    "name": "ipython",
    "version": 3
   },
   "file_extension": ".py",
   "mimetype": "text/x-python",
   "name": "python",
   "nbconvert_exporter": "python",
   "pygments_lexer": "ipython3",
   "version": "3.6.6"
  }
 },
 "nbformat": 4,
 "nbformat_minor": 2
}
