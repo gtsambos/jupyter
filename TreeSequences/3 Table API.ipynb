{
 "cells": [
  {
   "cell_type": "markdown",
   "metadata": {},
   "source": [
    "TreeSequences cannot be edited directly. We instead have to edit the TableCollection that translates to the sequence, and then convert the changed TableCollection into a new TreeSequence. For this reason, it's important to understand msprime's Tables API. \n",
    "\n",
    "We'll start by importing the tables from the TreeSequences generated in previous notebooks using ```dump_tables()```:"
   ]
  },
  {
   "cell_type": "code",
   "execution_count": 1,
   "metadata": {},
   "outputs": [],
   "source": [
    "# Import packages.\n",
    "import msprime, pyslim, numpy, IPython.display\n",
    "\n",
    "# Create a very basic msprime setup with population structure, test.\n",
    "\n",
    "population_configurations =[\n",
    "    msprime.PopulationConfiguration(\n",
    "    sample_size=3, initial_size=100),\n",
    "    msprime.PopulationConfiguration(\n",
    "    sample_size=3, initial_size=100)\n",
    "]\n",
    "\n",
    "demographic_events = [\n",
    "    msprime.MassMigration(\n",
    "    time=5, source=1, destination=0, proportion=1.0)\n",
    "]\n",
    "\n",
    "rho = 1e-4\n",
    "mu  = 1e-3 \n",
    "\n",
    "# Simulate with msprime.\n",
    "\n",
    "ts = msprime.simulate(\n",
    "    population_configurations=population_configurations,\n",
    "    demographic_events=demographic_events,\n",
    "    length=10,\n",
    "    recombination_rate=rho,\n",
    "    mutation_rate=mu,\n",
    "    random_seed=1\n",
    ")\n",
    "\n",
    "tabs = ts.dump_tables()"
   ]
  },
  {
   "cell_type": "markdown",
   "metadata": {},
   "source": [
    "The tables can be printed all at once..."
   ]
  },
  {
   "cell_type": "code",
   "execution_count": 3,
   "metadata": {},
   "outputs": [
    {
     "name": "stdout",
     "output_type": "stream",
     "text": [
      "############################################################\n",
      "#   Individuals                                            #\n",
      "############################################################\n",
      "id\tflags\tlocation\tmetadata\n",
      "############################################################\n",
      "#   Nodes                                                  #\n",
      "############################################################\n",
      "id\tflags\tpopulation\tindividual\ttime\tmetadata\n",
      "0\t1\t0\t-1\t0.00000000000000\t\n",
      "1\t1\t0\t-1\t0.00000000000000\t\n",
      "2\t1\t0\t-1\t0.00000000000000\t\n",
      "3\t1\t1\t-1\t0.00000000000000\t\n",
      "4\t1\t1\t-1\t0.00000000000000\t\n",
      "5\t1\t1\t-1\t0.00000000000000\t\n",
      "6\t0\t0\t-1\t65.92482819029316\t\n",
      "7\t0\t0\t-1\t71.57784790772325\t\n",
      "8\t0\t0\t-1\t87.05704331323707\t\n",
      "9\t0\t0\t-1\t125.58636700016072\t\n",
      "10\t0\t0\t-1\t265.89952008528115\t\n",
      "11\t0\t0\t-1\t487.91558379532819\t\n",
      "############################################################\n",
      "#   Edges                                                  #\n",
      "############################################################\n",
      "id\tleft\t\tright\t\tparent\tchild\n",
      "0\t0.00000000\t8.80535355\t6\t4\n",
      "1\t0.00000000\t8.80535355\t6\t5\n",
      "2\t8.80535355\t10.00000000\t7\t1\n",
      "3\t8.80535355\t10.00000000\t7\t5\n",
      "4\t0.00000000\t10.00000000\t8\t0\n",
      "5\t0.00000000\t8.80535355\t8\t1\n",
      "6\t8.80535355\t10.00000000\t8\t7\n",
      "7\t0.00000000\t10.00000000\t9\t3\n",
      "8\t8.80535355\t10.00000000\t9\t4\n",
      "9\t0.00000000\t8.80535355\t9\t6\n",
      "10\t0.00000000\t10.00000000\t10\t8\n",
      "11\t0.00000000\t10.00000000\t10\t9\n",
      "12\t0.00000000\t10.00000000\t11\t2\n",
      "13\t0.00000000\t10.00000000\t11\t10\n",
      "############################################################\n",
      "#   Sites                                                  #\n",
      "############################################################\n",
      "id\tposition\tancestral_state\tmetadata\n",
      "0\t0.18288280\t0\t\n",
      "1\t0.59243197\t0\t\n",
      "2\t0.81714394\t0\t\n",
      "3\t2.22124548\t0\t\n",
      "4\t3.15515634\t0\t\n",
      "5\t4.46134501\t0\t\n",
      "6\t4.56251638\t0\t\n",
      "7\t5.93065517\t0\t\n",
      "8\t6.86500925\t0\t\n",
      "9\t7.50144312\t0\t\n",
      "10\t7.61680909\t0\t\n",
      "11\t7.78389235\t0\t\n",
      "12\t8.34625673\t0\t\n",
      "13\t9.88861087\t0\t\n",
      "############################################################\n",
      "#   Mutations                                              #\n",
      "############################################################\n",
      "id\tsite\tnode\tderived_state\tparent\tmetadata\n",
      "0\t0\t2\t1\t-1\t\n",
      "1\t1\t8\t1\t-1\t\n",
      "2\t2\t1\t1\t-1\t\n",
      "3\t3\t10\t1\t-1\t\n",
      "4\t4\t2\t1\t-1\t\n",
      "5\t5\t10\t1\t-1\t\n",
      "6\t6\t1\t1\t-1\t\n",
      "7\t7\t9\t1\t-1\t\n",
      "8\t8\t2\t1\t-1\t\n",
      "9\t9\t2\t1\t-1\t\n",
      "10\t10\t1\t1\t-1\t\n",
      "11\t11\t0\t1\t-1\t\n",
      "12\t12\t2\t1\t-1\t\n",
      "13\t13\t2\t1\t-1\t\n",
      "############################################################\n",
      "#   Migrations                                             #\n",
      "############################################################\n",
      "id\tleft\tright\tnode\tsource\tdest\ttime\n",
      "############################################################\n",
      "#   Populations                                            #\n",
      "############################################################\n",
      "id\tmetadata\n",
      "0\t\n",
      "1\t\n",
      "############################################################\n",
      "#   Provenances                                            #\n",
      "############################################################\n",
      "id\ttimestamp\trecord\n",
      "0\t2018-10-04T10:49:47.044829\t{\"schema_version\": \"1.0.0\", \"software\": {\"name\": \"msprime\", \"version\": \"0.6.1\"}, \"parameters\": {\"command\": \"simulate\", \"random_seed\": 1, \"TODO\": \"add other simulation parameters\"}, \"environment\": {\"libraries\": {\"gsl\": {\"version\": \"2.2\"}, \"kastore\": {\"version\": \"0.1.0\"}}, \"os\": {\"system\": \"Darwin\", \"node\": \"6200D-132482-M.local\", \"release\": \"17.7.0\", \"version\": \"Darwin Kernel Version 17.7.0: Thu Jun 21 22:53:14 PDT 2018; root:xnu-4570.71.2~1/RELEASE_X86_64\", \"machine\": \"x86_64\"}, \"python\": {\"implementation\": \"CPython\", \"version\": \"3.6.6\"}}}\n"
     ]
    }
   ],
   "source": [
    "print(tabs)"
   ]
  },
  {
   "cell_type": "markdown",
   "metadata": {},
   "source": [
    "Each table has different properties that I'll go over in turn."
   ]
  },
  {
   "cell_type": "markdown",
   "metadata": {},
   "source": [
    "# Table types"
   ]
  },
  {
   "cell_type": "markdown",
   "metadata": {},
   "source": [
    "## Nodes"
   ]
  },
  {
   "cell_type": "code",
   "execution_count": 15,
   "metadata": {},
   "outputs": [
    {
     "name": "stdout",
     "output_type": "stream",
     "text": [
      "id\tflags\tpopulation\tindividual\ttime\tmetadata\n",
      "0\t1\t0\t-1\t0.00000000000000\t\n",
      "1\t1\t0\t-1\t0.00000000000000\t\n",
      "2\t1\t0\t-1\t0.00000000000000\t\n",
      "3\t1\t1\t-1\t0.00000000000000\t\n",
      "4\t1\t1\t-1\t0.00000000000000\t\n",
      "5\t1\t1\t-1\t0.00000000000000\t\n",
      "6\t0\t0\t-1\t65.92482819029316\t\n",
      "7\t0\t0\t-1\t71.57784790772325\t\n",
      "8\t0\t0\t-1\t87.05704331323707\t\n",
      "9\t0\t0\t-1\t125.58636700016072\t\n",
      "10\t0\t0\t-1\t265.89952008528115\t\n",
      "11\t0\t0\t-1\t487.91558379532819\t\n"
     ]
    }
   ],
   "source": [
    "print(tabs.nodes)"
   ]
  },
  {
   "cell_type": "markdown",
   "metadata": {},
   "source": [
    "```id```: The integer ID of the node.\n",
    "\n",
    "```flags```: Currently set up to record whether or not the node is a sample: ```IS_SAMPLE = 1```.\n",
    "\n",
    "```population```: The ID of the population where the individual is born.\n",
    "\n",
    "**NOTE:** apparently the population ID is supposed to default to -1 if unspecified, but in this table it appears to be defaulting to 0 (which is confusing, as this is also a valid population ID).\n",
    "\n",
    "```individual```: The ID of the individual that the node belongs to. If unspecified, as here, defaults to -1.\n",
    "\n",
    "```time```: The birth time of the individual (in backwards-time).\n",
    "\n",
    "```metadata```: Other binary info specified by the user.\n",
    "\n",
    "```flags``` and ```time``` are the only two columns that must be non-null. "
   ]
  },
  {
   "cell_type": "markdown",
   "metadata": {},
   "source": [
    "## Edges"
   ]
  },
  {
   "cell_type": "code",
   "execution_count": 16,
   "metadata": {},
   "outputs": [
    {
     "name": "stdout",
     "output_type": "stream",
     "text": [
      "id\tleft\t\tright\t\tparent\tchild\n",
      "0\t0.00000000\t8.80535355\t6\t4\n",
      "1\t0.00000000\t8.80535355\t6\t5\n",
      "2\t8.80535355\t10.00000000\t7\t1\n",
      "3\t8.80535355\t10.00000000\t7\t5\n",
      "4\t0.00000000\t10.00000000\t8\t0\n",
      "5\t0.00000000\t8.80535355\t8\t1\n",
      "6\t8.80535355\t10.00000000\t8\t7\n",
      "7\t0.00000000\t10.00000000\t9\t3\n",
      "8\t8.80535355\t10.00000000\t9\t4\n",
      "9\t0.00000000\t8.80535355\t9\t6\n",
      "10\t0.00000000\t10.00000000\t10\t8\n",
      "11\t0.00000000\t10.00000000\t10\t9\n",
      "12\t0.00000000\t10.00000000\t11\t2\n",
      "13\t0.00000000\t10.00000000\t11\t10\n"
     ]
    }
   ],
   "source": [
    "print(tabs.edges)"
   ]
  },
  {
   "cell_type": "markdown",
   "metadata": {},
   "source": [
    "```id```: The integer ID of the edge.\n",
    "\n",
    "```left```: The left coordinate of the edge.\n",
    "\n",
    "```right```: The right coordinate of the edge.\n",
    "\n",
    "```parent```: The ID of the parent (upper) node on the edge.\n",
    "\n",
    "```child```: The ID of the child (lower) node on the edge."
   ]
  },
  {
   "cell_type": "markdown",
   "metadata": {},
   "source": [
    "## Sites"
   ]
  },
  {
   "cell_type": "code",
   "execution_count": 17,
   "metadata": {},
   "outputs": [
    {
     "name": "stdout",
     "output_type": "stream",
     "text": [
      "id\tposition\tancestral_state\tmetadata\n",
      "0\t0.18288280\t0\t\n",
      "1\t0.59243197\t0\t\n",
      "2\t0.81714394\t0\t\n",
      "3\t2.22124548\t0\t\n",
      "4\t3.15515634\t0\t\n",
      "5\t4.46134501\t0\t\n",
      "6\t4.56251638\t0\t\n",
      "7\t5.93065517\t0\t\n",
      "8\t6.86500925\t0\t\n",
      "9\t7.50144312\t0\t\n",
      "10\t7.61680909\t0\t\n",
      "11\t7.78389235\t0\t\n",
      "12\t8.34625673\t0\t\n",
      "13\t9.88861087\t0\t\n"
     ]
    }
   ],
   "source": [
    "print(tabs.sites)"
   ]
  },
  {
   "cell_type": "markdown",
   "metadata": {},
   "source": [
    "```id```: The integer ID of each site.\n",
    "\n",
    "```position```: The floating point value specifying the location of each site.\n",
    "\n",
    "```ancestral_state```: The allelic state at the root of the tree at each site.\n",
    "\n",
    "```metadata```: Other binary encoded by the user."
   ]
  },
  {
   "cell_type": "markdown",
   "metadata": {},
   "source": [
    "## Mutations"
   ]
  },
  {
   "cell_type": "code",
   "execution_count": 18,
   "metadata": {},
   "outputs": [
    {
     "name": "stdout",
     "output_type": "stream",
     "text": [
      "id\tsite\tnode\tderived_state\tparent\tmetadata\n",
      "0\t0\t2\t1\t-1\t\n",
      "1\t1\t8\t1\t-1\t\n",
      "2\t2\t1\t1\t-1\t\n",
      "3\t3\t10\t1\t-1\t\n",
      "4\t4\t2\t1\t-1\t\n",
      "5\t5\t10\t1\t-1\t\n",
      "6\t6\t1\t1\t-1\t\n",
      "7\t7\t9\t1\t-1\t\n",
      "8\t8\t2\t1\t-1\t\n",
      "9\t9\t2\t1\t-1\t\n",
      "10\t10\t1\t1\t-1\t\n",
      "11\t11\t0\t1\t-1\t\n",
      "12\t12\t2\t1\t-1\t\n",
      "13\t13\t2\t1\t-1\t\n"
     ]
    }
   ],
   "source": [
    "print(tabs.mutations)"
   ]
  },
  {
   "cell_type": "markdown",
   "metadata": {},
   "source": [
    "```site```: The integer ID of the site at which the mutation occurs.\n",
    "\n",
    "```node```: The ID of the node at which the mutation occurs.\n",
    "\n",
    "```derived_state```: The new allelic state that arises from the mutation. This is the allele that this node and all descendant nodes will carry, unless there is another subsequent mutation.\n",
    "\n",
    "```parent```: If applicable, the ID of the mutation that was replaced by this mutation. (Not applicable in the current 'infinite-sites' version of msprime, in which there are infinite sites and mutations do not occur at the same position twice.)\n",
    "\n",
    "```metadata```: Other binary information encoded by the user. "
   ]
  },
  {
   "cell_type": "markdown",
   "metadata": {},
   "source": [
    "## Population table"
   ]
  },
  {
   "cell_type": "code",
   "execution_count": 20,
   "metadata": {},
   "outputs": [
    {
     "name": "stdout",
     "output_type": "stream",
     "text": [
      "id\tmetadata\n",
      "0\t\n",
      "1\t\n"
     ]
    }
   ],
   "source": [
    "print(tabs.populations)"
   ]
  },
  {
   "cell_type": "markdown",
   "metadata": {},
   "source": [
    "## Provenance table"
   ]
  },
  {
   "cell_type": "code",
   "execution_count": 22,
   "metadata": {},
   "outputs": [
    {
     "name": "stdout",
     "output_type": "stream",
     "text": [
      "id\ttimestamp\trecord\n",
      "0\t2018-10-04T10:49:47.044829\t{\"schema_version\": \"1.0.0\", \"software\": {\"name\": \"msprime\", \"version\": \"0.6.1\"}, \"parameters\": {\"command\": \"simulate\", \"random_seed\": 1, \"TODO\": \"add other simulation parameters\"}, \"environment\": {\"libraries\": {\"gsl\": {\"version\": \"2.2\"}, \"kastore\": {\"version\": \"0.1.0\"}}, \"os\": {\"system\": \"Darwin\", \"node\": \"6200D-132482-M.local\", \"release\": \"17.7.0\", \"version\": \"Darwin Kernel Version 17.7.0: Thu Jun 21 22:53:14 PDT 2018; root:xnu-4570.71.2~1/RELEASE_X86_64\", \"machine\": \"x86_64\"}, \"python\": {\"implementation\": \"CPython\", \"version\": \"3.6.6\"}}}\n"
     ]
    }
   ],
   "source": [
    "print(tabs.provenances)"
   ]
  },
  {
   "cell_type": "markdown",
   "metadata": {},
   "source": [
    "## Individuals"
   ]
  },
  {
   "cell_type": "code",
   "execution_count": 23,
   "metadata": {},
   "outputs": [
    {
     "name": "stdout",
     "output_type": "stream",
     "text": [
      "id\tflags\tlocation\tmetadata\n"
     ]
    }
   ],
   "source": [
    "print(tabs.individuals)"
   ]
  },
  {
   "cell_type": "markdown",
   "metadata": {},
   "source": [
    "```id```: The integer ID of each individual.\n",
    "\n",
    "```flags```: Currently unused, but some of the bits can be used for user-specified stuff.\n",
    "\n",
    "```location```: Stores the location of an individual in arbitrary dimensions. Can in principle be used to store any continuous-valued quantity, such as phenotype.\n",
    "\n",
    "```metadata```: Provides a location to store info about each individual."
   ]
  },
  {
   "cell_type": "code",
   "execution_count": null,
   "metadata": {},
   "outputs": [],
   "source": []
  }
 ],
 "metadata": {
  "kernelspec": {
   "display_name": "Python 3",
   "language": "python",
   "name": "python3"
  },
  "language_info": {
   "codemirror_mode": {
    "name": "ipython",
    "version": 3
   },
   "file_extension": ".py",
   "mimetype": "text/x-python",
   "name": "python",
   "nbconvert_exporter": "python",
   "pygments_lexer": "ipython3",
   "version": "3.6.6"
  }
 },
 "nbformat": 4,
 "nbformat_minor": 2
}
