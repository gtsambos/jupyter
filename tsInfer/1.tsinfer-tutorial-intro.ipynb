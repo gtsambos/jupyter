{
 "cells": [
  {
   "cell_type": "markdown",
   "metadata": {},
   "source": [
    "This notebook covers the [intro to the tsinfer tutorial](https://tsinfer.readthedocs.io/en/latest/tutorial.html)."
   ]
  },
  {
   "cell_type": "code",
   "execution_count": 1,
   "metadata": {},
   "outputs": [],
   "source": [
    "import tsinfer, sys"
   ]
  },
  {
   "cell_type": "markdown",
   "metadata": {},
   "source": [
    "Say we have the following dataset of 5 haplotypes over a sequence of length 6:\n",
    "\n",
    "```\n",
    "sample  haplotype\n",
    "0       AGCGAT\n",
    "1       TGACAG\n",
    "2       AGACAT\n",
    "3       ACCGCT\n",
    "4       ACCGCT\n",
    "```\n",
    "We'll first create an object called `sample_data` to hold this dataset. The object is a native SampleData object:"
   ]
  },
  {
   "cell_type": "code",
   "execution_count": 2,
   "metadata": {},
   "outputs": [],
   "source": [
    "with tsinfer.SampleData(sequence_length=6) as sample_data:\n",
    "    sample_data.add_site(0, [0, 1, 0, 0, 0], [\"A\", \"T\"])\n",
    "    sample_data.add_site(1, [0, 0, 0, 1, 1], [\"G\", \"C\"])\n",
    "    sample_data.add_site(2, [0, 1, 1, 0, 0], [\"C\", \"A\"])\n",
    "    sample_data.add_site(3, [0, 1, 1, 0, 0], [\"G\", \"C\"])\n",
    "    sample_data.add_site(4, [0, 0, 0, 1, 1], [\"A\", \"C\"])\n",
    "    sample_data.add_site(5, [0, 1, 0, 0, 0], [\"T\", \"G\"])\n",
    "    "
   ]
  },
  {
   "cell_type": "markdown",
   "metadata": {},
   "source": [
    "The first argument in ```add_site()``` specifies the genomic location of the added site.\n",
    "\n",
    "The second argument is a list of genotypes taking values 0 (ancestral state) and 1 (derived state).\n",
    "\n",
    "The third argument is the length-2 list of alleles at this site. The elements of this list map to 0 and 1.\n",
    "\n",
    "Presumably, all three of these are needed.\n",
    "\n",
    "SampleData objects look like the foundational unit of `tsinfer`:"
   ]
  },
  {
   "cell_type": "code",
   "execution_count": 3,
   "metadata": {},
   "outputs": [
    {
     "name": "stdout",
     "output_type": "stream",
     "text": [
      "ADDING_POPULATIONS, ADDING_SAMPLES, ADDING_SITES, BUILD_MODE, EDIT_MODE, FORMAT_NAME, FORMAT_VERSION, READ_MODE, _SampleData__all_haplotypes, __class__, __delattr__, __dict__, __dir__, __doc__, __enter__, __eq__, __exit__, __format__, __ge__, __getattribute__, __gt__, __hash__, __init__, __init_subclass__, __le__, __lt__, __module__, __ne__, __new__, __reduce__, __reduce_ex__, __repr__, __setattr__, __sizeof__, __str__, __subclasshook__, __weakref__, _alloc_site_writer, _build_state, _check_build_mode, _check_edit_mode, _check_format, _check_metadata, _check_write_modes, _chunk_size, _compressor, _format_str, _individuals_writer, _last_position, _metadata_codec, _mode, _new_lmdb_store, _num_flush_threads, _open_lmbd_readonly, _open_readonly, _populations_writer, _samples_writer, _sites_writer, add_individual, add_population, add_provenance, add_site, arrays, close, copy, data, data_equal, file_size, finalise, finalised, format_name, format_version, from_tree_sequence, genotypes, haplotypes, individuals, individuals_location, individuals_metadata, info, load, num_individuals, num_inference_sites, num_non_inference_sites, num_populations, num_provenances, num_samples, num_sites, path, populations_metadata, provenances, provenances_record, provenances_timestamp, record_provenance, samples_individual, samples_metadata, samples_population, sequence_length, sites_alleles, sites_genotypes, sites_inference, sites_metadata, sites_position, summary, uuid, variants"
     ]
    }
   ],
   "source": [
    "sys.stdout.write(\", \".join(dir(sample_data)))"
   ]
  },
  {
   "cell_type": "markdown",
   "metadata": {},
   "source": [
    "We'll learn more about this later I guess.\n",
    "\n",
    "Let's infer a treeSequence for tbis data! It's as simple as this:"
   ]
  },
  {
   "cell_type": "code",
   "execution_count": 5,
   "metadata": {},
   "outputs": [],
   "source": [
    "inferred_ts = tsinfer.infer(sample_data)"
   ]
  },
  {
   "cell_type": "code",
   "execution_count": 6,
   "metadata": {},
   "outputs": [
    {
     "name": "stdout",
     "output_type": "stream",
     "text": [
      "    7      \n",
      "┏━━┳┻━━┓   \n",
      "┃  5   6   \n",
      "┃ ┏┻┓ ┏┻┓  \n",
      "0 3 4 1 2  \n",
      "\n",
      "0\tAGCGAT\n",
      "1\tTGACAG\n",
      "2\tAGACAT\n",
      "3\tACCGCT\n",
      "4\tACCGCT\n"
     ]
    }
   ],
   "source": [
    "for tree in inferred_ts.trees():\n",
    "    print(tree.draw(format=\"unicode\"))\n",
    "for sample_id, h in enumerate(inferred_ts.haplotypes()):\n",
    "    print(sample_id, h, sep=\"\\t\")"
   ]
  },
  {
   "cell_type": "markdown",
   "metadata": {},
   "source": [
    "## An example with simulation"
   ]
  },
  {
   "cell_type": "code",
   "execution_count": 7,
   "metadata": {},
   "outputs": [],
   "source": [
    "import msprime\n",
    "import tqdm # allows us to have progress bars. Useful!"
   ]
  },
  {
   "cell_type": "code",
   "execution_count": 8,
   "metadata": {},
   "outputs": [
    {
     "name": "stderr",
     "output_type": "stream",
     "text": [
      "\r",
      "  0%|          | 0/39001 [00:00<?, ?it/s]"
     ]
    },
    {
     "name": "stdout",
     "output_type": "stream",
     "text": [
      "simulation done: 36734 trees and 39001 sites\n"
     ]
    },
    {
     "name": "stderr",
     "output_type": "stream",
     "text": [
      "100%|██████████| 39001/39001 [00:09<00:00, 4277.60it/s]\n"
     ]
    }
   ],
   "source": [
    "ts = msprime.simulate(\n",
    "    sample_size=10000, Ne=10**4, recombination_rate=1e-8,\n",
    "    mutation_rate=1e-8, length=10*10**6, random_seed=42)\n",
    "ts.dump(\"simulation-source.trees\")\n",
    "print(\"simulation done:\", ts.num_trees, \"trees and\", ts.num_sites,  \"sites\")\n",
    "\n",
    "progress = tqdm.tqdm(total=ts.num_sites)\n",
    "with tsinfer.SampleData(\n",
    "        path=\"simulation.samples\", sequence_length=ts.sequence_length,\n",
    "        num_flush_threads=2) as sample_data:\n",
    "    for var in ts.variants():\n",
    "        sample_data.add_site(var.site.position, var.genotypes, var.alleles)\n",
    "        progress.update()\n",
    "    progress.close()"
   ]
  },
  {
   "cell_type": "code",
   "execution_count": null,
   "metadata": {},
   "outputs": [],
   "source": []
  }
 ],
 "metadata": {
  "kernelspec": {
   "display_name": "Python 3",
   "language": "python",
   "name": "python3"
  },
  "language_info": {
   "codemirror_mode": {
    "name": "ipython",
    "version": 3
   },
   "file_extension": ".py",
   "mimetype": "text/x-python",
   "name": "python",
   "nbconvert_exporter": "python",
   "pygments_lexer": "ipython3",
   "version": "3.7.1"
  }
 },
 "nbformat": 4,
 "nbformat_minor": 2
}
